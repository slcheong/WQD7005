{
 "cells": [
  {
   "cell_type": "code",
   "execution_count": 1,
   "metadata": {},
   "outputs": [],
   "source": [
    "## sample of retrieve data from Hive\n",
    "from pyhive import hive\n",
    "import pandas as pd\n",
    "\n",
    "#connect to hive\n",
    "con = hive.connect(host='localhost',port=10000,username='hiveuser')\n",
    "cur = con.cursor()\n",
    "\n",
    "\n",
    "\n"
   ]
  },
  {
   "cell_type": "code",
   "execution_count": 2,
   "metadata": {},
   "outputs": [
    {
     "name": "stdout",
     "output_type": "stream",
     "text": [
      "('2008-04-30', Decimal('0.1458'), Decimal('0.1458'), Decimal('0.1433'), Decimal('0.1450'), Decimal('0.0215'), 3697200)\n"
     ]
    }
   ],
   "source": [
    "#query sql\n",
    "selectSQL = \"SELECT * FROM KLSE.5168_HP\"\n",
    "data = con.cursor()\n",
    "data.execute(selectSQL)\n",
    "result = data.fetchall()\n",
    "\n",
    "print(result[10])"
   ]
  },
  {
   "cell_type": "code",
   "execution_count": 3,
   "metadata": {},
   "outputs": [
    {
     "name": "stdout",
     "output_type": "stream",
     "text": [
      "            0       1       2       3       4       5            6\n",
      "0        None    None    None    None    None    None          NaN\n",
      "1  2008-04-17  0.1625  0.1683  0.1567  0.1592  0.0236  273720000.0\n",
      "2  2008-04-18  0.1592  0.1592  0.1517  0.1517  0.0225   42812400.0\n",
      "3  2008-04-21  0.1517  0.1575  0.1517  0.1533  0.0227   20798400.0\n",
      "4  2008-04-22  0.1533  0.1533  0.1500  0.1525  0.0226    8673600.0\n",
      "5  2008-04-23  0.1508  0.1508  0.1458  0.1492  0.0221   26454000.0\n",
      "6  2008-04-24  0.1500  0.1508  0.1450  0.1467  0.0217   11625600.0\n",
      "7  2008-04-25  0.1450  0.1467  0.1433  0.1458  0.0216    6522000.0\n",
      "8  2008-04-28  0.1467  0.1483  0.1467  0.1483  0.0220    9339600.0\n",
      "9  2008-04-29  0.1475  0.1483  0.1425  0.1458  0.0216    9040800.0\n"
     ]
    }
   ],
   "source": [
    "# transform result into pandas dataframe\n",
    "dataframe = []\n",
    "for row in result:\n",
    "    data = []\n",
    "    for d in row:\n",
    "        data.append(d)\n",
    "    dataframe.append(data)\n",
    "df = pd.DataFrame(dataframe)\n",
    "\n",
    "\n",
    "# print df\n",
    "print(df.head(10))"
   ]
  },
  {
   "cell_type": "code",
   "execution_count": null,
   "metadata": {},
   "outputs": [],
   "source": []
  }
 ],
 "metadata": {
  "kernelspec": {
   "display_name": "Python 3",
   "language": "python",
   "name": "python3"
  },
  "language_info": {
   "codemirror_mode": {
    "name": "ipython",
    "version": 3
   },
   "file_extension": ".py",
   "mimetype": "text/x-python",
   "name": "python",
   "nbconvert_exporter": "python",
   "pygments_lexer": "ipython3",
   "version": "3.7.6"
  }
 },
 "nbformat": 4,
 "nbformat_minor": 2
}
